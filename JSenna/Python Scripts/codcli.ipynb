{
 "cells": [
  {
   "cell_type": "code",
   "execution_count": 47,
   "id": "40c98f2f",
   "metadata": {},
   "outputs": [],
   "source": [
    "import pandas as pd\n",
    "import cx_Oracle as oc\n",
    "import csv\n",
    "\n",
    "uid = \"consultoriabi\"    # usuário\n",
    "pwd = \"papelex#2020xelepap\"   # senha\n",
    "db = \"192.168.24.57:1521/wint\"  # string de conexão do Oracle, configurado no\n",
    "                                # cliente Oracle, arquivo tnsnames.ora\n",
    " \n",
    "connection = oc.connect(uid+\"/\"+pwd+\"@\"+db) #cria a conexão\n",
    "cursor = connection.cursor() # cria um cursor\n",
    "\n",
    "cursor.execute(\"select CODCLI,TELCOM,TELCOB,TELENT,TELCELENT,FAXCLI from pcclient\") # consulta sql\n",
    "result = cursor.fetchone()  # busca o resultado da consulta\n",
    "if result == None: \n",
    "        print ('Nenhum Resultado')\n",
    "        exit\n",
    "else: \n",
    "    f = open('P:\\codcli.csv', 'w', newline='', encoding='utf-8')\n",
    "    w = csv.writer(f, delimiter=';')\n",
    "    \n",
    "    while result:\n",
    "                w.writerow(\n",
    "                \n",
    "                [result[0], result[1] , result[2],result[3],result[4],result[5]]\n",
    "            \n",
    "                 )\n",
    "                result = cursor.fetchone()\n",
    "   \n",
    "    f.close() "
   ]
  },
  {
   "cell_type": "code",
   "execution_count": null,
   "id": "ddad2eb7",
   "metadata": {},
   "outputs": [],
   "source": []
  }
 ],
 "metadata": {
  "kernelspec": {
   "display_name": "Python 3 (ipykernel)",
   "language": "python",
   "name": "python3"
  },
  "language_info": {
   "codemirror_mode": {
    "name": "ipython",
    "version": 3
   },
   "file_extension": ".py",
   "mimetype": "text/x-python",
   "name": "python",
   "nbconvert_exporter": "python",
   "pygments_lexer": "ipython3",
   "version": "3.9.13"
  }
 },
 "nbformat": 4,
 "nbformat_minor": 5
}
