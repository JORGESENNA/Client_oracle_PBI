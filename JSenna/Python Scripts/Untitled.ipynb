{
 "cells": [
  {
   "cell_type": "code",
   "execution_count": 64,
   "id": "e3dad336",
   "metadata": {},
   "outputs": [],
   "source": [
    "import pyautogui as pp\n",
    "import time\n",
    "import pyperclip as pc\n",
    "\n",
    "pp.PAUSE = 2\n",
    "\n",
    "#pp.press(\"winleft\")\n",
    "#pp.write(\"chome\")\n",
    "#pp.press(\"enter\")\n",
    "pyautogui.hotkey(\"ctrl\", \"t\")\n",
    "pyperclip.copy(\"https://www.olx.com.br/\")\n",
    "pyautogui.hotkey(\"ctrl\", \"v\")\n",
    "pyautogui.press(\"enter\")\n",
    "time.sleep(2)\n",
    "pp.hotkey('tab', 'tab', 'tab', 'tab','tab', 'tab', 'tab', 'tab','tab', 'tab', 'tab', 'tab')\n",
    "pp.write(\"carros\")\n",
    "pp.press(\"enter\")\n",
    "\n",
    "\n",
    "\n"
   ]
  },
  {
   "cell_type": "code",
   "execution_count": 61,
   "id": "0bc7c3b4",
   "metadata": {},
   "outputs": [
    {
     "name": "stdout",
     "output_type": "stream",
     "text": [
      "Point(x=-991, y=194) None\n"
     ]
    }
   ],
   "source": [
    "print(pyautogui.position(), time.sleep(5))\n"
   ]
  },
  {
   "cell_type": "code",
   "execution_count": null,
   "id": "50fb7c27",
   "metadata": {},
   "outputs": [],
   "source": []
  }
 ],
 "metadata": {
  "kernelspec": {
   "display_name": "Python 3 (ipykernel)",
   "language": "python",
   "name": "python3"
  },
  "language_info": {
   "codemirror_mode": {
    "name": "ipython",
    "version": 3
   },
   "file_extension": ".py",
   "mimetype": "text/x-python",
   "name": "python",
   "nbconvert_exporter": "python",
   "pygments_lexer": "ipython3",
   "version": "3.9.13"
  }
 },
 "nbformat": 4,
 "nbformat_minor": 5
}
